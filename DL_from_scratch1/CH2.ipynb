{
  "nbformat": 4,
  "nbformat_minor": 0,
  "metadata": {
    "colab": {
      "provenance": []
    },
    "kernelspec": {
      "name": "python3",
      "display_name": "Python 3"
    },
    "language_info": {
      "name": "python"
    }
  },
  "cells": [
    {
      "cell_type": "markdown",
      "source": [
        "# 2. 퍼셉트론"
      ],
      "metadata": {
        "id": "Km1IprXsk4aX"
      }
    },
    {
      "cell_type": "markdown",
      "source": [
        "## 2.3 퍼셉트론 구현하기"
      ],
      "metadata": {
        "id": "9yD7h-FDk8G3"
      }
    },
    {
      "cell_type": "markdown",
      "source": [
        "### 2.3.1 간단한 구현부터"
      ],
      "metadata": {
        "id": "HsECDLo4k-aG"
      }
    },
    {
      "cell_type": "code",
      "source": [
        "def AND(x1, x2):\n",
        "  w1, w2, thetha = 0.5, 0.5, 0.7\n",
        "  tmp = x1*w1 + x2*w2\n",
        "  if tmp <= thetha:\n",
        "    return 0\n",
        "  else:\n",
        "    return 1"
      ],
      "metadata": {
        "id": "W0rPxNwHk7rv"
      },
      "execution_count": null,
      "outputs": []
    },
    {
      "cell_type": "code",
      "execution_count": null,
      "metadata": {
        "colab": {
          "base_uri": "https://localhost:8080/"
        },
        "id": "nd2Rx-Tckyeu",
        "outputId": "68d34f01-363e-409b-b1c6-57d35c56d791"
      },
      "outputs": [
        {
          "output_type": "execute_result",
          "data": {
            "text/plain": [
              "0"
            ]
          },
          "metadata": {},
          "execution_count": 2
        }
      ],
      "source": [
        "AND(0,0)"
      ]
    },
    {
      "cell_type": "code",
      "source": [
        "AND(0,1)"
      ],
      "metadata": {
        "colab": {
          "base_uri": "https://localhost:8080/"
        },
        "id": "34FsYgBpmO8U",
        "outputId": "9134f90f-e7d7-4632-fde2-b5734517d357"
      },
      "execution_count": null,
      "outputs": [
        {
          "output_type": "execute_result",
          "data": {
            "text/plain": [
              "0"
            ]
          },
          "metadata": {},
          "execution_count": 3
        }
      ]
    },
    {
      "cell_type": "code",
      "source": [
        "AND(1,0)"
      ],
      "metadata": {
        "colab": {
          "base_uri": "https://localhost:8080/"
        },
        "id": "lfvX-vE7mP-s",
        "outputId": "47dff8c0-2d38-4139-c640-ee4e76a90410"
      },
      "execution_count": null,
      "outputs": [
        {
          "output_type": "execute_result",
          "data": {
            "text/plain": [
              "0"
            ]
          },
          "metadata": {},
          "execution_count": 4
        }
      ]
    },
    {
      "cell_type": "code",
      "source": [
        "AND(1,1)"
      ],
      "metadata": {
        "colab": {
          "base_uri": "https://localhost:8080/"
        },
        "id": "bHz7OcQhmRAM",
        "outputId": "88311124-7556-43fe-a354-f2ab92ffa2eb"
      },
      "execution_count": null,
      "outputs": [
        {
          "output_type": "execute_result",
          "data": {
            "text/plain": [
              "1"
            ]
          },
          "metadata": {},
          "execution_count": 5
        }
      ]
    },
    {
      "cell_type": "markdown",
      "source": [
        "### 2.3.2 가중치와 편향 도입"
      ],
      "metadata": {
        "id": "khzJepFymVX1"
      }
    },
    {
      "cell_type": "code",
      "source": [
        "import numpy as np\n",
        "x = np.array([0, 1]) #입력\n",
        "w = np.array([0.5, 0.5]) #가중치\n",
        "b = -0.7 #편향\n",
        "\n",
        "print(w*x)\n",
        "print(np.sum(w*x))\n",
        "print(np.sum(w*x)+b)"
      ],
      "metadata": {
        "colab": {
          "base_uri": "https://localhost:8080/"
        },
        "id": "VW8LF2FymRyG",
        "outputId": "25176843-011b-4e0a-ffdf-eb9c481914cd"
      },
      "execution_count": null,
      "outputs": [
        {
          "output_type": "stream",
          "name": "stdout",
          "text": [
            "[0.  0.5]\n",
            "0.5\n",
            "-0.19999999999999996\n"
          ]
        }
      ]
    },
    {
      "cell_type": "markdown",
      "source": [
        "### 2.3.3 가중치와 편향 구현하기"
      ],
      "metadata": {
        "id": "65ZZ4RFZmY_X"
      }
    },
    {
      "cell_type": "markdown",
      "source": [
        "AND 게이트"
      ],
      "metadata": {
        "id": "aKhtcSX8oH0A"
      }
    },
    {
      "cell_type": "code",
      "source": [
        "def AND(x1, x2):\n",
        "  x = np.array([x1, x2])\n",
        "  w = np.array([0.5, 0.5])\n",
        "  b = -0.7\n",
        "  tmp = np.sum(x*w)+b\n",
        "  if tmp <= 0:\n",
        "    return 0\n",
        "  else:\n",
        "    return 1"
      ],
      "metadata": {
        "id": "NGaYvjwJmzM_"
      },
      "execution_count": null,
      "outputs": []
    },
    {
      "cell_type": "markdown",
      "source": [
        "NAND 게이트"
      ],
      "metadata": {
        "id": "brzvMvU3ok33"
      }
    },
    {
      "cell_type": "code",
      "source": [
        "def NAND(x1, x2):\n",
        "  x = np.array([x1, x2])\n",
        "  w = np.array([-0.5, -0.5])\n",
        "  b = 0.7\n",
        "  tmp = np.sum(x*w)+b\n",
        "  if tmp <= 0:\n",
        "    return 0\n",
        "  else:\n",
        "    return 1"
      ],
      "metadata": {
        "id": "9Uwt_h-YoVPS"
      },
      "execution_count": null,
      "outputs": []
    },
    {
      "cell_type": "markdown",
      "source": [
        "OR 게이트"
      ],
      "metadata": {
        "id": "SbMpA_qLo561"
      }
    },
    {
      "cell_type": "code",
      "source": [
        "def OR(x1, x2):\n",
        "  x = np.array([x1, x2])\n",
        "  w = np.array([0.5, 0.5])\n",
        "  b = -0.2\n",
        "  tmp = np.sum(x*w)+b\n",
        "  if tmp <= 0:\n",
        "    return 0\n",
        "  else:\n",
        "    return 1"
      ],
      "metadata": {
        "id": "PCCzSfDvo5IZ"
      },
      "execution_count": null,
      "outputs": []
    },
    {
      "cell_type": "markdown",
      "source": [
        "<br>\n",
        "<br>"
      ],
      "metadata": {
        "id": "JZqr3ikSqpDd"
      }
    },
    {
      "cell_type": "markdown",
      "source": [
        "## 2.5 다층 퍼셉트론이 출동한다면"
      ],
      "metadata": {
        "id": "J_-VpYoZqqLw"
      }
    },
    {
      "cell_type": "markdown",
      "source": [
        "### 2.5.2 XOR 게이트 구현하기"
      ],
      "metadata": {
        "id": "aZ_splQMrLSF"
      }
    },
    {
      "cell_type": "code",
      "source": [
        "def XOR(x1, x2):\n",
        "  s1 = NAND(x1, x2)\n",
        "  s2 = OR(x1, x2)\n",
        "  y = AND(s1, s2)\n",
        "  return y"
      ],
      "metadata": {
        "id": "GhmvvFm_pLfj"
      },
      "execution_count": null,
      "outputs": []
    },
    {
      "cell_type": "code",
      "source": [
        "XOR(0, 0)"
      ],
      "metadata": {
        "colab": {
          "base_uri": "https://localhost:8080/"
        },
        "id": "q5ArL2nqrVgS",
        "outputId": "6c475426-0b3a-4467-862b-d61648428ee2"
      },
      "execution_count": null,
      "outputs": [
        {
          "output_type": "execute_result",
          "data": {
            "text/plain": [
              "0"
            ]
          },
          "metadata": {},
          "execution_count": 13
        }
      ]
    },
    {
      "cell_type": "code",
      "source": [
        "XOR(1, 0)"
      ],
      "metadata": {
        "colab": {
          "base_uri": "https://localhost:8080/"
        },
        "id": "AWmCdZCvrW3I",
        "outputId": "db1cf358-5476-48f6-cc31-a4d2876f7c37"
      },
      "execution_count": null,
      "outputs": [
        {
          "output_type": "execute_result",
          "data": {
            "text/plain": [
              "1"
            ]
          },
          "metadata": {},
          "execution_count": 14
        }
      ]
    },
    {
      "cell_type": "code",
      "source": [
        "XOR(0, 1)"
      ],
      "metadata": {
        "colab": {
          "base_uri": "https://localhost:8080/"
        },
        "id": "XYhSz9eerYXa",
        "outputId": "1a5975cc-fb13-4aa9-aee8-6e72b45d36d0"
      },
      "execution_count": null,
      "outputs": [
        {
          "output_type": "execute_result",
          "data": {
            "text/plain": [
              "1"
            ]
          },
          "metadata": {},
          "execution_count": 15
        }
      ]
    },
    {
      "cell_type": "code",
      "source": [
        "XOR(1, 1)"
      ],
      "metadata": {
        "colab": {
          "base_uri": "https://localhost:8080/"
        },
        "id": "7vkdP8UHrZV9",
        "outputId": "562d6d01-5df8-425b-b9f7-285b3527b3a6"
      },
      "execution_count": null,
      "outputs": [
        {
          "output_type": "execute_result",
          "data": {
            "text/plain": [
              "0"
            ]
          },
          "metadata": {},
          "execution_count": 16
        }
      ]
    }
  ]
}
