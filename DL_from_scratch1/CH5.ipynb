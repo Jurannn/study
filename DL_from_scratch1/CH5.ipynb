{
  "nbformat": 4,
  "nbformat_minor": 0,
  "metadata": {
    "colab": {
      "provenance": []
    },
    "kernelspec": {
      "name": "python3",
      "display_name": "Python 3"
    },
    "language_info": {
      "name": "python"
    }
  },
  "cells": [
    {
      "cell_type": "markdown",
      "source": [
        "# 5. 오차역전파법"
      ],
      "metadata": {
        "id": "4_-aCxbbZFVv"
      }
    },
    {
      "cell_type": "markdown",
      "source": [
        "## 5.4 단순한 계층 구현하기"
      ],
      "metadata": {
        "id": "EAeXpYvjee5Z"
      }
    },
    {
      "cell_type": "markdown",
      "source": [
        "### 5.4.1 곱셈 계층"
      ],
      "metadata": {
        "id": "xh3_5dZyehHD"
      }
    },
    {
      "cell_type": "code",
      "execution_count": 16,
      "metadata": {
        "id": "88MXdZknY3ED"
      },
      "outputs": [],
      "source": [
        "class MulLayer:\n",
        "  def __init__(self):\n",
        "    self.x = None\n",
        "    self.y = None\n",
        "\n",
        "  def forward(self, x, y):\n",
        "    self.x = x\n",
        "    self.y = y\n",
        "    out = x * y\n",
        "    return out\n",
        "\n",
        "  def backward(self, dout): #dout : 상류에서 넘어온 미분\n",
        "    dx = dout * self.y #x와 y를 바꿈\n",
        "    dy = dout + self.x\n",
        "    return dx, dy"
      ]
    },
    {
      "cell_type": "markdown",
      "source": [
        "- 순전파 구현"
      ],
      "metadata": {
        "id": "sCEKym-agpvu"
      }
    },
    {
      "cell_type": "code",
      "source": [
        "# 입력값\n",
        "apple = 100\n",
        "apple_num = 2\n",
        "tax = 1.1\n",
        "\n",
        "# 계층들\n",
        "mul_apple_layer = MulLayer()\n",
        "mul_tax_layer = MulLayer()\n",
        "\n",
        "#순전파\n",
        "apple_price = mul_apple_layer.forward(apple, apple_num)\n",
        "price = mul_tax_layer.forward(apple_price, tax)\n",
        "\n",
        "print(price)"
      ],
      "metadata": {
        "colab": {
          "base_uri": "https://localhost:8080/"
        },
        "id": "eAd5NWuAf0SQ",
        "outputId": "d96fd3d6-b4ac-4e68-9ff3-5a6b72ba4b98"
      },
      "execution_count": 10,
      "outputs": [
        {
          "output_type": "stream",
          "name": "stdout",
          "text": [
            "220.00000000000003\n"
          ]
        }
      ]
    },
    {
      "cell_type": "markdown",
      "source": [
        "- 역전파 구현 : 각 변수에 대한 미분"
      ],
      "metadata": {
        "id": "S62PN_HSgs10"
      }
    },
    {
      "cell_type": "code",
      "source": [
        "dprice = 1\n",
        "dapple_price, dtax = mul_tax_layer.backward(dprice)\n",
        "dapple, dapple_num = mul_apple_layer.backward(dapple_price)\n",
        "\n",
        "print(dapple, dapple_num, dtax)"
      ],
      "metadata": {
        "colab": {
          "base_uri": "https://localhost:8080/"
        },
        "id": "d_3pad5Ggm4m",
        "outputId": "df96b18c-f731-47cb-b3b0-8dbb747d2517"
      },
      "execution_count": 8,
      "outputs": [
        {
          "output_type": "stream",
          "name": "stdout",
          "text": [
            "2.2 101.1 201\n"
          ]
        }
      ]
    },
    {
      "cell_type": "markdown",
      "source": [
        "### 5.4.2 덧셈 계층"
      ],
      "metadata": {
        "id": "-4AP2cRPiLnI"
      }
    },
    {
      "cell_type": "code",
      "source": [
        "class AddLayer:\n",
        "  def __init__(self):\n",
        "    pass\n",
        "\n",
        "  def forward(self, x, y):\n",
        "    out = x + y\n",
        "    return out\n",
        "\n",
        "  def backward(self, dout):\n",
        "    dx = dout * 1\n",
        "    dy = dout * 1\n",
        "    return dx, dy"
      ],
      "metadata": {
        "id": "KbQdCabOhgaQ"
      },
      "execution_count": 11,
      "outputs": []
    },
    {
      "cell_type": "code",
      "source": [
        "apple = 100\n",
        "apple_num = 2\n",
        "orange = 150\n",
        "orange_num = 3\n",
        "tax = 1.1\n",
        "\n",
        "#layer\n",
        "mul_apple_layer = MulLayer()\n",
        "mul_orange_layer = MulLayer()\n",
        "add_total_layer = AddLayer()\n",
        "mul_tax_layer = MulLayer()\n",
        "\n",
        "#forward\n",
        "apple_price = mul_apple_layer.forward(apple, apple_num)\n",
        "orange_price = mul_orange_layer.forward(orange, orange_num)\n",
        "total_price = add_total_layer.forward(apple_price, orange_price)\n",
        "price = mul_tax_layer.forward(total_price, tax)\n",
        "\n",
        "print(price)\n",
        "\n",
        "#backward\n",
        "dprice = 1\n",
        "dtotal_price, dtax = mul_tax_layer.backward(dprice)\n",
        "dapple_price, dorange_price = add_total_layer.backward(dtotal_price)\n",
        "dorange, dorange_num = mul_orange_layer.backward(dorange_price)\n",
        "dapple, dapple_num = mul_apple_layer.backward(dapple_price)\n",
        "\n",
        "print(dapple_num, dapple, dorange, dorange_num, dtax)"
      ],
      "metadata": {
        "colab": {
          "base_uri": "https://localhost:8080/"
        },
        "id": "DIcxxE38jI4U",
        "outputId": "434b2692-f2ae-4410-8f72-bf62611caf3e"
      },
      "execution_count": 17,
      "outputs": [
        {
          "output_type": "stream",
          "name": "stdout",
          "text": [
            "715.0000000000001\n",
            "101.1 2.2 3.3000000000000003 151.1 651\n"
          ]
        }
      ]
    },
    {
      "cell_type": "markdown",
      "source": [
        "<br>"
      ],
      "metadata": {
        "id": "02okhdBxmOSm"
      }
    },
    {
      "cell_type": "markdown",
      "source": [
        "## 5.5 활성화 함수 계층 구현하기"
      ],
      "metadata": {
        "id": "CdAEo6vWmO55"
      }
    },
    {
      "cell_type": "markdown",
      "source": [
        "### 5.5.1 ReLU 계층"
      ],
      "metadata": {
        "id": "EoiMVGYamR0D"
      }
    },
    {
      "cell_type": "code",
      "source": [
        "class Relu:\n",
        "  def __init__(self):\n",
        "    self.mask = None\n",
        "\n",
        "  def forward(self, x):\n",
        "    self.mask = (x<=0)\n",
        "    out = x.copy()\n",
        "    out[self.mask] = 0\n",
        "    return out\n",
        "\n",
        "  def backward(self, dout):\n",
        "    dout[self.mask] = 0\n",
        "    dx = dout\n",
        "    return dx"
      ],
      "metadata": {
        "id": "3DIoTByAlT9M"
      },
      "execution_count": 18,
      "outputs": []
    },
    {
      "cell_type": "markdown",
      "source": [
        "### 5.5.2 Sigmoid 계층"
      ],
      "metadata": {
        "id": "h-qBcFXBrPTw"
      }
    },
    {
      "cell_type": "code",
      "source": [
        "import numpy as np\n",
        "class Sigmoid:\n",
        "  def __init__(self):\n",
        "    self.out = None\n",
        "\n",
        "  def forward(self, x):\n",
        "    out = 1 / (1 + np.exp(-x))\n",
        "    self.out = out\n",
        "    return out\n",
        "  \n",
        "  def backward(self, dout):\n",
        "    dx = dout * (1.0 - self.out) * self.out\n",
        "    return dx"
      ],
      "metadata": {
        "id": "bTx9zr9prHTG"
      },
      "execution_count": 19,
      "outputs": []
    },
    {
      "cell_type": "markdown",
      "source": [
        "<br>"
      ],
      "metadata": {
        "id": "c2F9u9Z-ssO_"
      }
    },
    {
      "cell_type": "markdown",
      "source": [
        "## 5.6 Affine/Softmax 계층 구현하기"
      ],
      "metadata": {
        "id": "IXm2UlFnstSk"
      }
    },
    {
      "cell_type": "markdown",
      "source": [
        "### 5.6.2 배치용 Affine 계층"
      ],
      "metadata": {
        "id": "ZGVxB733swhi"
      }
    },
    {
      "cell_type": "code",
      "source": [],
      "metadata": {
        "id": "mYKbZMzUsk7s"
      },
      "execution_count": null,
      "outputs": []
    }
  ]
}