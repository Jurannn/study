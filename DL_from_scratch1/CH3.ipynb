{
  "nbformat": 4,
  "nbformat_minor": 0,
  "metadata": {
    "colab": {
      "provenance": []
    },
    "kernelspec": {
      "name": "python3",
      "display_name": "Python 3"
    },
    "language_info": {
      "name": "python"
    }
  },
  "cells": [
    {
      "cell_type": "markdown",
      "source": [
        "# CH3. 신경망"
      ],
      "metadata": {
        "id": "ewBDmdjpzGdS"
      }
    },
    {
      "cell_type": "markdown",
      "source": [
        "## 3.2 활성화 함수"
      ],
      "metadata": {
        "id": "752F90ZOzLeA"
      }
    },
    {
      "cell_type": "markdown",
      "source": [
        "### 3.2.2 계단 함수 구현하기"
      ],
      "metadata": {
        "id": "TY9VWASLzNaP"
      }
    },
    {
      "cell_type": "code",
      "execution_count": 1,
      "metadata": {
        "id": "_YPRhoVQvbcj"
      },
      "outputs": [],
      "source": [
        "#넘파이 배열을 인수로 받을 수 없음  \n",
        "def step_function(x):\n",
        "  if x > 0:\n",
        "    return 1\n",
        "  else:\n",
        "    return 0"
      ]
    },
    {
      "cell_type": "code",
      "source": [
        "#넘파이 배열을 인수로 받을 수 있음\n",
        "import numpy as np\n",
        "\n",
        "def step_functionx(x):\n",
        "  y = x > 0\n",
        "  return y.astype(np.int)"
      ],
      "metadata": {
        "id": "ZZytodpPzXSw"
      },
      "execution_count": 2,
      "outputs": []
    },
    {
      "cell_type": "code",
      "source": [
        "x = np.array([-1.0, 1.0, 2.0])\n",
        "x"
      ],
      "metadata": {
        "colab": {
          "base_uri": "https://localhost:8080/"
        },
        "id": "KhmOgvDOzmwD",
        "outputId": "f5922dfd-8d0b-496d-e672-d8e88ef2bb7c"
      },
      "execution_count": 3,
      "outputs": [
        {
          "output_type": "execute_result",
          "data": {
            "text/plain": [
              "array([-1.,  1.,  2.])"
            ]
          },
          "metadata": {},
          "execution_count": 3
        }
      ]
    },
    {
      "cell_type": "code",
      "source": [
        "#넘파이 배열에 부등호 연산을 수행하면 배열의 원소 각각에 부등호 연산을 수행한 bool 배열 생성\n",
        "y = x > 0\n",
        "y"
      ],
      "metadata": {
        "colab": {
          "base_uri": "https://localhost:8080/"
        },
        "id": "MV4T1pR8z00z",
        "outputId": "7cc55194-f0b2-42ed-ad39-cc2a435a8d82"
      },
      "execution_count": 4,
      "outputs": [
        {
          "output_type": "execute_result",
          "data": {
            "text/plain": [
              "array([False,  True,  True])"
            ]
          },
          "metadata": {},
          "execution_count": 4
        }
      ]
    },
    {
      "cell_type": "code",
      "source": [
        "#bool을 int로 변환하면 True는 1, False는 0으로 변환\n",
        "y = y.astype(np.int)\n",
        "y"
      ],
      "metadata": {
        "colab": {
          "base_uri": "https://localhost:8080/"
        },
        "id": "z4vB3LpZz2z_",
        "outputId": "9a700a08-0659-41b2-feb9-a79706069243"
      },
      "execution_count": 5,
      "outputs": [
        {
          "output_type": "stream",
          "name": "stderr",
          "text": [
            "<ipython-input-5-27fd047ac683>:2: DeprecationWarning: `np.int` is a deprecated alias for the builtin `int`. To silence this warning, use `int` by itself. Doing this will not modify any behavior and is safe. When replacing `np.int`, you may wish to use e.g. `np.int64` or `np.int32` to specify the precision. If you wish to review your current use, check the release note link for additional information.\n",
            "Deprecated in NumPy 1.20; for more details and guidance: https://numpy.org/devdocs/release/1.20.0-notes.html#deprecations\n",
            "  y = y.astype(np.int)\n"
          ]
        },
        {
          "output_type": "execute_result",
          "data": {
            "text/plain": [
              "array([0, 1, 1])"
            ]
          },
          "metadata": {},
          "execution_count": 5
        }
      ]
    },
    {
      "cell_type": "markdown",
      "source": [
        "### 3.2.3 계단 함수의 그래프"
      ],
      "metadata": {
        "id": "cwp6YGu50MKG"
      }
    },
    {
      "cell_type": "code",
      "source": [
        "import matplotlib.pyplot as plt\n",
        "\n",
        "def step_function(x):\n",
        "  return np.array(x > 0, dtype = np.int)\n",
        "\n",
        "x = np.arange(-5.0, 5.0, 0.1)\n",
        "y = step_function(x)\n",
        "plt.plot(x,y)\n",
        "plt.ylim(-0.1, 1.1)\n",
        "plt.show()"
      ],
      "metadata": {
        "colab": {
          "base_uri": "https://localhost:8080/",
          "height": 337
        },
        "id": "igAKvzBm0FOa",
        "outputId": "379dee0e-5498-445d-fe58-25a4907e555a"
      },
      "execution_count": 6,
      "outputs": [
        {
          "output_type": "stream",
          "name": "stderr",
          "text": [
            "<ipython-input-6-1a135e813700>:4: DeprecationWarning: `np.int` is a deprecated alias for the builtin `int`. To silence this warning, use `int` by itself. Doing this will not modify any behavior and is safe. When replacing `np.int`, you may wish to use e.g. `np.int64` or `np.int32` to specify the precision. If you wish to review your current use, check the release note link for additional information.\n",
            "Deprecated in NumPy 1.20; for more details and guidance: https://numpy.org/devdocs/release/1.20.0-notes.html#deprecations\n",
            "  return np.array(x > 0, dtype = np.int)\n"
          ]
        },
        {
          "output_type": "display_data",
          "data": {
            "text/plain": [
              "<Figure size 432x288 with 1 Axes>"
            ],
            "image/png": "[encoded data removed]"
          },
          "metadata": {
            "needs_background": "light"
          }
        }
      ]
    },
    {
      "cell_type": "markdown",
      "source": [
        "### 3.2.4 시그모이드 함수 구현하기"
      ],
      "metadata": {
        "id": "cI2QsIns0xZS"
      }
    },
    {
      "cell_type": "code",
      "source": [
        "def sigmoid(x):\n",
        "  return 1/(1+np.exp(-x))"
      ],
      "metadata": {
        "id": "vTW9xVB30pNq"
      },
      "execution_count": 7,
      "outputs": []
    },
    {
      "cell_type": "code",
      "source": [
        "#넘파이 배열을 인수로 받을 수 있다\n",
        "x = np.array([-1.0, 1.0, 2.0])\n",
        "sigmoid(x)"
      ],
      "metadata": {
        "colab": {
          "base_uri": "https://localhost:8080/"
        },
        "id": "OfiJW0Rm03MQ",
        "outputId": "aabd4aed-19c6-4b38-dbb5-f202586b7683"
      },
      "execution_count": 8,
      "outputs": [
        {
          "output_type": "execute_result",
          "data": {
            "text/plain": [
              "array([0.26894142, 0.73105858, 0.88079708])"
            ]
          },
          "metadata": {},
          "execution_count": 8
        }
      ]
    },
    {
      "cell_type": "code",
      "source": [
        "#넘파이의 브로드캐스트\n",
        "#브로드캐스트 : 넘파이 배열과 스칼라값의 연산을 넘파이 배열의 원소 각각과 스칼라값의 연산으로 바꿔 수행\n",
        "t = np.array([1.0, 2.0, 3.0])\n",
        "print(1.0 + t)\n",
        "print(1.0/t)"
      ],
      "metadata": {
        "colab": {
          "base_uri": "https://localhost:8080/"
        },
        "id": "iEq3vnN11GLx",
        "outputId": "08b321b6-3441-4cd7-c818-9c08d9360fa7"
      },
      "execution_count": 9,
      "outputs": [
        {
          "output_type": "stream",
          "name": "stdout",
          "text": [
            "[2. 3. 4.]\n",
            "[1.         0.5        0.33333333]\n"
          ]
        }
      ]
    },
    {
      "cell_type": "code",
      "source": [
        "x = np.arange(-5.0, 5.0, 0.1)\n",
        "y = sigmoid(x)\n",
        "plt.plot(x,y)\n",
        "plt.ylim(-0.1, 1.1)\n",
        "plt.show()"
      ],
      "metadata": {
        "colab": {
          "base_uri": "https://localhost:8080/",
          "height": 265
        },
        "id": "T4getWI91Zfx",
        "outputId": "a70ac70b-bdee-49d9-ed67-95c9ef58405c"
      },
      "execution_count": 10,
      "outputs": [
        {
          "output_type": "display_data",
          "data": {
            "text/plain": [
              "<Figure size 432x288 with 1 Axes>"
            ],
            "image/png": "[encoded data removed]"
          },
          "metadata": {
            "needs_background": "light"
          }
        }
      ]
    },
    {
      "cell_type": "markdown",
      "source": [
        "### 3.2.7 ReLU 함수"
      ],
      "metadata": {
        "id": "54dRdX961yX7"
      }
    },
    {
      "cell_type": "code",
      "source": [
        "def relu(x):\n",
        "  return np.maximum(0, x)"
      ],
      "metadata": {
        "id": "ZYzHveLg1tGY"
      },
      "execution_count": 11,
      "outputs": []
    },
    {
      "cell_type": "markdown",
      "source": [
        "<br>"
      ],
      "metadata": {
        "id": "AJGXHgmh2xWf"
      }
    },
    {
      "cell_type": "markdown",
      "source": [
        "## 3.3 다차원 배열의 계산"
      ],
      "metadata": {
        "id": "Nd5IZM3k2x_Z"
      }
    },
    {
      "cell_type": "markdown",
      "source": [
        "### 3.3.1 다차원 배열"
      ],
      "metadata": {
        "id": "ycw5Slla20P7"
      }
    },
    {
      "cell_type": "code",
      "source": [
        "#1차원 배열\n",
        "A = np.array([1,2,3,4])\n",
        "print(A)\n",
        "print(np.ndim(A))\n",
        "print(A.shape)\n",
        "print(A.shape[0])"
      ],
      "metadata": {
        "colab": {
          "base_uri": "https://localhost:8080/"
        },
        "id": "5MYFGQZB2z__",
        "outputId": "168817e7-e7bc-4e0a-f97b-6bf46ff75ebc"
      },
      "execution_count": 12,
      "outputs": [
        {
          "output_type": "stream",
          "name": "stdout",
          "text": [
            "[1 2 3 4]\n",
            "1\n",
            "(4,)\n",
            "4\n"
          ]
        }
      ]
    },
    {
      "cell_type": "code",
      "source": [
        "#2차원 배열\n",
        "B = np.array([[1,2],[3,4],[5,6]])\n",
        "print(B)\n",
        "print(np.ndim(B))\n",
        "print(B.shape)"
      ],
      "metadata": {
        "colab": {
          "base_uri": "https://localhost:8080/"
        },
        "id": "AdOScah32utB",
        "outputId": "afc49a2c-2800-41e4-daab-8005291395de"
      },
      "execution_count": 13,
      "outputs": [
        {
          "output_type": "stream",
          "name": "stdout",
          "text": [
            "[[1 2]\n",
            " [3 4]\n",
            " [5 6]]\n",
            "2\n",
            "(3, 2)\n"
          ]
        }
      ]
    },
    {
      "cell_type": "markdown",
      "source": [
        "### 3.3.2 행렬의 곱"
      ],
      "metadata": {
        "id": "po8shG253s1j"
      }
    },
    {
      "cell_type": "code",
      "source": [
        "A = np.array([[1,2],[3,4]])\n",
        "print(A.shape)\n",
        "\n",
        "B = np.array([[5,6],[7,8]])\n",
        "print(B.shape)\n",
        "\n",
        "print(np.dot(A, B))"
      ],
      "metadata": {
        "colab": {
          "base_uri": "https://localhost:8080/"
        },
        "id": "5vxKe_Hb3lLs",
        "outputId": "58af64f5-3792-4bfb-bd33-75119a367dbf"
      },
      "execution_count": 14,
      "outputs": [
        {
          "output_type": "stream",
          "name": "stdout",
          "text": [
            "(2, 2)\n",
            "(2, 2)\n",
            "[[19 22]\n",
            " [43 50]]\n"
          ]
        }
      ]
    },
    {
      "cell_type": "code",
      "source": [
        "A = np.array([[1,2,3],[4,5,6]])\n",
        "print(A.shape)\n",
        "\n",
        "B = np.array([[1,2],[3,4],[5,6]])\n",
        "print(B.shape)\n",
        "\n",
        "print(np.dot(A,B))"
      ],
      "metadata": {
        "colab": {
          "base_uri": "https://localhost:8080/"
        },
        "id": "uphLa2M_4EZI",
        "outputId": "43b5bd72-5cd9-4c48-a0b1-f8757751227b"
      },
      "execution_count": 15,
      "outputs": [
        {
          "output_type": "stream",
          "name": "stdout",
          "text": [
            "(2, 3)\n",
            "(3, 2)\n",
            "[[22 28]\n",
            " [49 64]]\n"
          ]
        }
      ]
    },
    {
      "cell_type": "code",
      "source": [
        "A = np.array([[1,2],[3,4],[5,6]])\n",
        "print(A.shape)\n",
        "\n",
        "B = np.array([7,8])\n",
        "print(B.shape)\n",
        "\n",
        "print(np.dot(A, B))"
      ],
      "metadata": {
        "colab": {
          "base_uri": "https://localhost:8080/"
        },
        "id": "6Z9H8Hi_4JTF",
        "outputId": "721827d3-3b5f-4af6-e583-e6e99b8846ca"
      },
      "execution_count": 16,
      "outputs": [
        {
          "output_type": "stream",
          "name": "stdout",
          "text": [
            "(3, 2)\n",
            "(2,)\n",
            "[23 53 83]\n"
          ]
        }
      ]
    },
    {
      "cell_type": "markdown",
      "source": [
        "### 3.3.3 신경망에서의 행렬 곱"
      ],
      "metadata": {
        "id": "4gTSTP_r4z-A"
      }
    },
    {
      "cell_type": "code",
      "source": [
        "X = np.array([1,2])\n",
        "print(X.shape)\n",
        "\n",
        "W = np.array([[1,3,5],[2,4,6]])\n",
        "print(W.shape)\n",
        "\n",
        "Y = np.dot(X, W)\n",
        "print(Y)"
      ],
      "metadata": {
        "colab": {
          "base_uri": "https://localhost:8080/"
        },
        "id": "z1pHpreo4xpO",
        "outputId": "0debce27-a449-4eff-ad13-28bac200fc1d"
      },
      "execution_count": 17,
      "outputs": [
        {
          "output_type": "stream",
          "name": "stdout",
          "text": [
            "(2,)\n",
            "(2, 3)\n",
            "[ 5 11 17]\n"
          ]
        }
      ]
    },
    {
      "cell_type": "markdown",
      "source": [
        "<br>"
      ],
      "metadata": {
        "id": "_UpEhDCl5JuW"
      }
    },
    {
      "cell_type": "markdown",
      "source": [
        "## 3.4 3층 신경망 구현하기"
      ],
      "metadata": {
        "id": "6DrFuV4H5Kjz"
      }
    },
    {
      "cell_type": "markdown",
      "source": [
        "### 3.4.2 각 층의 신호 전달 구현하기"
      ],
      "metadata": {
        "id": "LY0Txtnkg1uX"
      }
    },
    {
      "cell_type": "code",
      "source": [
        "#입력층에서 1층으로 신호 전달\n",
        "X = np.array([1.0, 0.5])\n",
        "W1 = np.array([[0.1, 0.3, 0.5], [0.2, 0.4, 0.6]])\n",
        "B1 = np.array([0.1, 0.2, 0.3])\n",
        "\n",
        "print(W1.shape)\n",
        "print(X.shape)\n",
        "print(B1.shape)\n",
        "\n",
        "A1 = np.dot(X, W1) + B1\n",
        "print(A1)"
      ],
      "metadata": {
        "id": "qSOsZdQb5IJn",
        "colab": {
          "base_uri": "https://localhost:8080/"
        },
        "outputId": "cb930463-c18e-4496-b581-1247cef48662"
      },
      "execution_count": 18,
      "outputs": [
        {
          "output_type": "stream",
          "name": "stdout",
          "text": [
            "(2, 3)\n",
            "(2,)\n",
            "(3,)\n",
            "[0.3 0.7 1.1]\n"
          ]
        }
      ]
    },
    {
      "cell_type": "code",
      "source": [
        "#1층의 활성화 함수에서의 처리\n",
        "Z1 = sigmoid(A1)\n",
        "\n",
        "print(A1)\n",
        "print(Z1)"
      ],
      "metadata": {
        "colab": {
          "base_uri": "https://localhost:8080/"
        },
        "id": "sndvLaWqjHDs",
        "outputId": "c23dff98-00bd-49b6-cccf-715b2d39326e"
      },
      "execution_count": 19,
      "outputs": [
        {
          "output_type": "stream",
          "name": "stdout",
          "text": [
            "[0.3 0.7 1.1]\n",
            "[0.57444252 0.66818777 0.75026011]\n"
          ]
        }
      ]
    },
    {
      "cell_type": "code",
      "source": [
        "#1층에서 2층으로의 신호 전달\n",
        "W2 = np.array([[0.1, 0.4], [0.2, 0.5], [0.3, 0.6]])\n",
        "B2 = np.array([[0.1, 0.2]])\n",
        "\n",
        "print(Z1.shape)\n",
        "print(W2.shape)\n",
        "print(B2.shape)\n",
        "\n",
        "A2 = np.dot(Z1, W2) + B2\n",
        "print(A2)"
      ],
      "metadata": {
        "colab": {
          "base_uri": "https://localhost:8080/"
        },
        "id": "5g9RGe6KkDgT",
        "outputId": "9b63330f-8638-444d-bc8e-f97a97d6a8fe"
      },
      "execution_count": 20,
      "outputs": [
        {
          "output_type": "stream",
          "name": "stdout",
          "text": [
            "(3,)\n",
            "(3, 2)\n",
            "(1, 2)\n",
            "[[0.51615984 1.21402696]]\n"
          ]
        }
      ]
    },
    {
      "cell_type": "code",
      "source": [
        "#2층의 활성화 함수에서의 처리\n",
        "Z2 = sigmoid(A2)\n",
        "\n",
        "print(A2)\n",
        "print(Z2)"
      ],
      "metadata": {
        "colab": {
          "base_uri": "https://localhost:8080/"
        },
        "id": "MLl4lfvNlOkz",
        "outputId": "9e205809-abd6-4272-93ac-ec156ba9c4ee"
      },
      "execution_count": 21,
      "outputs": [
        {
          "output_type": "stream",
          "name": "stdout",
          "text": [
            "[[0.51615984 1.21402696]]\n",
            "[[0.62624937 0.7710107 ]]\n"
          ]
        }
      ]
    },
    {
      "cell_type": "code",
      "source": [
        "#2층에서 출력층으로의 신호 전달\n",
        "W3 = np.array([[0.1, 0.3], [0.2, 0.4]])\n",
        "B3 = np.array([0.1, 0.2])\n",
        "\n",
        "A3 = np.dot(Z2, W3) + B3\n",
        "print(A3)"
      ],
      "metadata": {
        "colab": {
          "base_uri": "https://localhost:8080/"
        },
        "id": "7tiyQeDFlXif",
        "outputId": "8cbefd05-0ac8-45c9-fe20-b6c190768ae8"
      },
      "execution_count": 22,
      "outputs": [
        {
          "output_type": "stream",
          "name": "stdout",
          "text": [
            "[[0.31682708 0.69627909]]\n"
          ]
        }
      ]
    },
    {
      "cell_type": "code",
      "source": [
        "#촐력층의 활성화 함수에서의 처리\n",
        "def identify_function(x):\n",
        "  return x\n",
        "\n",
        "Y = identify_function(A3) #혹은 Y = A3\n",
        "print(Y)"
      ],
      "metadata": {
        "colab": {
          "base_uri": "https://localhost:8080/"
        },
        "id": "KNIgUaZMl_97",
        "outputId": "c4c9c8c5-a57d-4b85-b42c-19e829f81b49"
      },
      "execution_count": 23,
      "outputs": [
        {
          "output_type": "stream",
          "name": "stdout",
          "text": [
            "[[0.31682708 0.69627909]]\n"
          ]
        }
      ]
    },
    {
      "cell_type": "markdown",
      "source": [
        "### 3.4.3 구현 정리"
      ],
      "metadata": {
        "id": "KByVQgdHmV8M"
      }
    },
    {
      "cell_type": "code",
      "source": [
        "def init_network():\n",
        "  network = {}\n",
        "  network['W1'] = np.array([[0.1, 0.3, 0.5], [0.2, 0.4, 0.6]])\n",
        "  network['b1'] = np.array([0.1, 0.2, 0.3])\n",
        "  network['W2'] = np.array([[0.1, 0.4], [0.2, 0.5], [0.3, 0.6]])\n",
        "  network['b2'] = np.array([[0.1, 0.2]])\n",
        "  network['W3'] = np.array([[0.1, 0.3], [0.2, 0.4]])\n",
        "  network['b3'] = np.array([0.1, 0.2])\n",
        "  \n",
        "  return network\n",
        "\n",
        "def forward(network, x):\n",
        "  W1, W2, W3 = network['W1'], network['W2'], network['W3']\n",
        "  b1, b2, b3 = network['b1'], network['b2'], network['b3']\n",
        "\n",
        "  a1 = np.dot(x, W1) + b1\n",
        "  z1 = sigmoid(a1)\n",
        "\n",
        "  a2 = np.dot(z1, W2) + b2\n",
        "  z2 = sigmoid(a2)\n",
        "\n",
        "  a3 = np.dot(z2, W3) + b3\n",
        "  y = identify_function(a3)\n",
        "\n",
        "  return y\n",
        "\n",
        "network = init_network()\n",
        "x = np.array([1.0, 0.5])\n",
        "y = forward(network, x)\n",
        "print(y)"
      ],
      "metadata": {
        "colab": {
          "base_uri": "https://localhost:8080/"
        },
        "id": "B1MhU8OJmNC3",
        "outputId": "9cc3ccb9-7357-48db-d57f-6cb230594f9a"
      },
      "execution_count": 24,
      "outputs": [
        {
          "output_type": "stream",
          "name": "stdout",
          "text": [
            "[[0.31682708 0.69627909]]\n"
          ]
        }
      ]
    },
    {
      "cell_type": "markdown",
      "source": [
        "<br>"
      ],
      "metadata": {
        "id": "0j9Rh42QoMX1"
      }
    },
    {
      "cell_type": "markdown",
      "source": [
        "## 3.5 출력층 설계하기"
      ],
      "metadata": {
        "id": "WZEKb1nSoNW3"
      }
    },
    {
      "cell_type": "markdown",
      "source": [
        "### 3.5.1 항등 함수와 소프트맥스 함수 구현하기"
      ],
      "metadata": {
        "id": "97PtK9dcoPdu"
      }
    },
    {
      "cell_type": "code",
      "source": [
        "a = np.array([0.3, 2.9, 4.0])\n",
        "exp_a = np.exp(a)\n",
        "print(exp_a)\n",
        "\n",
        "sum_exp_a = np.sum(exp_a)\n",
        "print(sum_exp_a)\n",
        "\n",
        "y = exp_a/sum_exp_a\n",
        "print(y)"
      ],
      "metadata": {
        "colab": {
          "base_uri": "https://localhost:8080/"
        },
        "id": "70g9aCN3n1Pb",
        "outputId": "d3ed98f5-180b-4563-cb8a-6691a64fa004"
      },
      "execution_count": 25,
      "outputs": [
        {
          "output_type": "stream",
          "name": "stdout",
          "text": [
            "[ 1.34985881 18.17414537 54.59815003]\n",
            "74.1221542101633\n",
            "[0.01821127 0.24519181 0.73659691]\n"
          ]
        }
      ]
    },
    {
      "cell_type": "code",
      "source": [
        "def softmax(a):\n",
        "  exp_a = np.exp(a)\n",
        "  sum_exp_a = np.sum(a)\n",
        "  y = exp_a / sum_exp_a\n",
        "  \n",
        "  return y"
      ],
      "metadata": {
        "id": "-CR8kFRapL8q"
      },
      "execution_count": 26,
      "outputs": []
    },
    {
      "cell_type": "markdown",
      "source": [
        "### 3.5.2 소프트맥스 함수 구현 시 주의점"
      ],
      "metadata": {
        "id": "b8Idc7qBpaAR"
      }
    },
    {
      "cell_type": "code",
      "source": [
        "#위와 같이 구현하면 overflow가 발생\n",
        "a = np.array([1010, 1000, 990])\n",
        "print(np.exp(a) / np.sum(np.exp(a)))"
      ],
      "metadata": {
        "colab": {
          "base_uri": "https://localhost:8080/"
        },
        "id": "X2NBqmo7pX7g",
        "outputId": "1ade7dd1-5709-4efe-f2f5-11c0aea575cc"
      },
      "execution_count": 27,
      "outputs": [
        {
          "output_type": "stream",
          "name": "stdout",
          "text": [
            "[nan nan nan]\n"
          ]
        },
        {
          "output_type": "stream",
          "name": "stderr",
          "text": [
            "<ipython-input-27-5db3ed1f9c14>:3: RuntimeWarning: overflow encountered in exp\n",
            "  print(np.exp(a) / np.sum(np.exp(a)))\n",
            "<ipython-input-27-5db3ed1f9c14>:3: RuntimeWarning: invalid value encountered in true_divide\n",
            "  print(np.exp(a) / np.sum(np.exp(a)))\n"
          ]
        }
      ]
    },
    {
      "cell_type": "code",
      "source": [
        "#입력 신호 중 최댓값을 빼서 overflow 방지\n",
        "c = np.max(a)\n",
        "print(a-c)\n",
        "\n",
        "print(np.exp(a-c)/np.sum(np.exp(a-c)))"
      ],
      "metadata": {
        "colab": {
          "base_uri": "https://localhost:8080/"
        },
        "id": "ydeqwsVqp7mI",
        "outputId": "18d85b55-7f50-44bd-baf5-db6f31845b20"
      },
      "execution_count": 28,
      "outputs": [
        {
          "output_type": "stream",
          "name": "stdout",
          "text": [
            "[  0 -10 -20]\n",
            "[9.99954600e-01 4.53978686e-05 2.06106005e-09]\n"
          ]
        }
      ]
    },
    {
      "cell_type": "code",
      "source": [
        "# overflow 방지하는 softmax 함수 구현\n",
        "def softmax(a):\n",
        "  c = np.max(a)\n",
        "  exp_a = np.exp(a-c)\n",
        "  sum_exp_a = np.sum(exp_a)\n",
        "  y = exp_a / sum_exp_a\n",
        "\n",
        "  return y"
      ],
      "metadata": {
        "id": "MWJ4Za4ZqJ2C"
      },
      "execution_count": 29,
      "outputs": []
    },
    {
      "cell_type": "markdown",
      "source": [
        "### 3.5.3 소프트맥스 함수의 특징"
      ],
      "metadata": {
        "id": "-WUjfOtqqadh"
      }
    },
    {
      "cell_type": "code",
      "source": [
        "a = np.array([0.3, 2.9, 4.0])\n",
        "y = softmax(a)\n",
        "print(y)\n",
        "print(np.sum(y))"
      ],
      "metadata": {
        "colab": {
          "base_uri": "https://localhost:8080/"
        },
        "id": "X39KKQ-xqZlD",
        "outputId": "c46dc432-1c45-4405-a2a9-aa69ed0e7b6a"
      },
      "execution_count": 30,
      "outputs": [
        {
          "output_type": "stream",
          "name": "stdout",
          "text": [
            "[0.01821127 0.24519181 0.73659691]\n",
            "1.0\n"
          ]
        }
      ]
    },
    {
      "cell_type": "markdown",
      "source": [
        "<br>"
      ],
      "metadata": {
        "id": "SjkAUq4JrBqJ"
      }
    },
    {
      "cell_type": "markdown",
      "source": [
        "## 3.6 손글씨 숫자 인식"
      ],
      "metadata": {
        "id": "JC9Goy1ErCRs"
      }
    },
    {
      "cell_type": "markdown",
      "source": [
        "### 3.6.1 MNIST 데이터셋"
      ],
      "metadata": {
        "id": "IwcwX-UTrQku"
      }
    },
    {
      "cell_type": "code",
      "source": [
        "import sys, os\n",
        "from tensorflow.keras.datasets import mnist"
      ],
      "metadata": {
        "id": "ALVFYULQqoRn"
      },
      "execution_count": 31,
      "outputs": []
    },
    {
      "cell_type": "code",
      "source": [
        "(x_train, t_train), (x_test, t_test) = mnist.load_data()\n",
        "\n",
        "print(x_train.shape)\n",
        "print(t_train.shape)\n",
        "print(x_test.shape)\n",
        "print(t_train.shape)"
      ],
      "metadata": {
        "colab": {
          "base_uri": "https://localhost:8080/"
        },
        "id": "kIstyNafrvMy",
        "outputId": "072e4d1f-8bc7-4bf7-dabb-d3d3fc2cbe7b"
      },
      "execution_count": 32,
      "outputs": [
        {
          "output_type": "stream",
          "name": "stdout",
          "text": [
            "Downloading data from https://storage.googleapis.com/tensorflow/tf-keras-datasets/mnist.npz\n",
            "11490434/11490434 [==============================] - 0s 0us/step\n",
            "(60000, 28, 28)\n",
            "(60000,)\n",
            "(10000, 28, 28)\n",
            "(60000,)\n"
          ]
        }
      ]
    },
    {
      "cell_type": "code",
      "source": [
        "#flatten\n",
        "x_train = x_train.reshape(-1, x_train.shape[1]*x_train.shape[2])\n",
        "x_test = x_test.reshape(-1, x_test.shape[1]*x_test.shape[2])\n",
        "\n",
        "print(x_train.shape)\n",
        "print(x_test.shape)"
      ],
      "metadata": {
        "colab": {
          "base_uri": "https://localhost:8080/"
        },
        "id": "dR6BQehKsd5E",
        "outputId": "ba923849-cee4-4461-bc4f-100b98f91138"
      },
      "execution_count": 33,
      "outputs": [
        {
          "output_type": "stream",
          "name": "stdout",
          "text": [
            "(60000, 784)\n",
            "(10000, 784)\n"
          ]
        }
      ]
    },
    {
      "cell_type": "code",
      "source": [
        "from PIL import Image"
      ],
      "metadata": {
        "id": "EB5xX5c9thju"
      },
      "execution_count": 34,
      "outputs": []
    },
    {
      "cell_type": "code",
      "source": [
        "img = x_train[0]\n",
        "label = t_train[0]\n",
        "print(label)"
      ],
      "metadata": {
        "colab": {
          "base_uri": "https://localhost:8080/"
        },
        "id": "hOczPKtlt2UL",
        "outputId": "f862a758-73e5-46f3-81dd-352dfe394906"
      },
      "execution_count": 35,
      "outputs": [
        {
          "output_type": "stream",
          "name": "stdout",
          "text": [
            "5\n"
          ]
        }
      ]
    },
    {
      "cell_type": "code",
      "source": [
        "print(img.shape)"
      ],
      "metadata": {
        "colab": {
          "base_uri": "https://localhost:8080/"
        },
        "id": "5XpIlj-tt85d",
        "outputId": "35fbaab2-93ed-4309-aeae-130781930c6f"
      },
      "execution_count": 36,
      "outputs": [
        {
          "output_type": "stream",
          "name": "stdout",
          "text": [
            "(784,)\n"
          ]
        }
      ]
    },
    {
      "cell_type": "code",
      "source": [
        "img = img.reshape(28, 28)\n",
        "print(img.shape)"
      ],
      "metadata": {
        "colab": {
          "base_uri": "https://localhost:8080/"
        },
        "id": "Rplat1oTuACE",
        "outputId": "90d83a91-4ecb-491e-c5e0-43cc265762b7"
      },
      "execution_count": 37,
      "outputs": [
        {
          "output_type": "stream",
          "name": "stdout",
          "text": [
            "(28, 28)\n"
          ]
        }
      ]
    },
    {
      "cell_type": "code",
      "source": [
        "import matplotlib.pyplot as plt\n",
        "plt.imshow(img)"
      ],
      "metadata": {
        "colab": {
          "base_uri": "https://localhost:8080/",
          "height": 282
        },
        "id": "mALwL9MyuGYO",
        "outputId": "4526eaed-aec9-4149-9f2c-f7ab83ac7886"
      },
      "execution_count": 38,
      "outputs": [
        {
          "output_type": "execute_result",
          "data": {
            "text/plain": [
              "<matplotlib.image.AxesImage at 0x7f2754bedb50>"
            ]
          },
          "metadata": {},
          "execution_count": 38
        },
        {
          "output_type": "display_data",
          "data": {
            "text/plain": [
              "<Figure size 432x288 with 1 Axes>"
            ],
            "image/png": "[encoded data removed]"
          },
          "metadata": {
            "needs_background": "light"
          }
        }
      ]
    },
    {
      "cell_type": "markdown",
      "source": [
        "### 3.6.2 신경망의 추론 처리"
      ],
      "metadata": {
        "id": "2U0Jm3kQuorg"
      }
    },
    {
      "cell_type": "code",
      "source": [
        "from google.colab import drive\n",
        "drive.mount('/content/drive')"
      ],
      "metadata": {
        "colab": {
          "base_uri": "https://localhost:8080/"
        },
        "id": "mTBU6w6Fwo-l",
        "outputId": "23e84a0f-2319-4028-ffe9-24ddca0731e7"
      },
      "execution_count": 39,
      "outputs": [
        {
          "output_type": "stream",
          "name": "stdout",
          "text": [
            "Drive already mounted at /content/drive; to attempt to forcibly remount, call drive.mount(\"/content/drive\", force_remount=True).\n"
          ]
        }
      ]
    },
    {
      "cell_type": "code",
      "source": [
        "import sys, os\n",
        "sys.path.append('/content/drive/MyDrive/Colab Notebooks')\n",
        "from mnist import load_mnist"
      ],
      "metadata": {
        "id": "XT6rGpaduHRN"
      },
      "execution_count": 40,
      "outputs": []
    },
    {
      "cell_type": "code",
      "source": [
        "import pickle\n",
        "def get_data():\n",
        "  (x_train, t_train), (x_test, t_test) = \\\n",
        "    load_mnist(normalize = True, flatten = True, one_hot_label = False)\n",
        "  \n",
        "  return x_test, t_test\n",
        "\n",
        "def init_network():\n",
        "  with open('/content/drive/MyDrive/Colab Notebooks/sample_weight.pkl', 'rb') as f:\n",
        "    network = pickle.load(f) #학습된 가중치 매개변수를 읽음\n",
        "  \n",
        "  return network\n",
        "\n",
        "def predict(network, x):\n",
        "  W1, W2, W3 = network['W1'], network['W2'], network['W3']\n",
        "  b1, b2, b3 = network['b1'], network['b2'], network['b3']\n",
        "\n",
        "  a1 = np.dot(x, W1) + b1\n",
        "  z1 = sigmoid(a1)\n",
        "\n",
        "  a2 = np.dot(z1, W2) + b2\n",
        "  z2 = sigmoid(a2)\n",
        "\n",
        "  a3 = np.dot(z2, W3) + b3\n",
        "  y = softmax(a3)\n",
        "\n",
        "  return y"
      ],
      "metadata": {
        "id": "aLY6pabV0iVQ"
      },
      "execution_count": 48,
      "outputs": []
    },
    {
      "cell_type": "code",
      "source": [
        "x, t = get_data()\n",
        "network = init_network()\n",
        "\n",
        "accuracy_cnt = 0 #정확도 측정을 위해\n",
        "for i in range(len(x)):\n",
        "  y = predict(network, x[i])\n",
        "  p = np.argmax(y) #확률이 가장 높은 원소의 인덱스를 얻음\n",
        "  if p == t[i]:\n",
        "    accuracy_cnt += 1\n",
        "\n",
        "print('Accuracy: '+str(float(accuracy_cnt / len(x))))"
      ],
      "metadata": {
        "colab": {
          "base_uri": "https://localhost:8080/"
        },
        "id": "MCZL4-843ho_",
        "outputId": "80ce54c3-1b37-48c8-f3dc-c5096230b29b"
      },
      "execution_count": 49,
      "outputs": [
        {
          "output_type": "stream",
          "name": "stdout",
          "text": [
            "Accuracy: 0.9352\n"
          ]
        }
      ]
    },
    {
      "cell_type": "markdown",
      "source": [
        "### 3.6.3 배치(batch) 처리"
      ],
      "metadata": {
        "id": "rxSif9Aq5R2d"
      }
    },
    {
      "cell_type": "markdown",
      "source": [
        "배치(batch) : 하나로 묶은 입력 데이터"
      ],
      "metadata": {
        "id": "CQJVQo0C53Au"
      }
    },
    {
      "cell_type": "code",
      "source": [
        "#배치 처리의 구현\n",
        "x, t = get_data()\n",
        "network = init_network()\n",
        "\n",
        "batch_size = 100\n",
        "accuracy_cnt = 0\n",
        "\n",
        "for i in range(0, len(x), batch_size):\n",
        "  x_batch = x[i:i+batch_size] #x를 배치 사이즈만큼 묶음\n",
        "  y_batch = predict(network, x_batch)\n",
        "  p = np.argmax(y_batch, axis = 1) #각 행(1번쨰 차원)에서 최댓값을 갖는 인덱스 출력\n",
        "  accuracy_cnt += np.sum(p == t[i:i+batch_size]) #bool 배열에서 True가 몇 개 인지 counting\n",
        "\n",
        "print('Accuracy : ' +str(float(accuracy_cnt)/len(x)))"
      ],
      "metadata": {
        "colab": {
          "base_uri": "https://localhost:8080/"
        },
        "id": "Md1BfTvR40F_",
        "outputId": "adc01040-bbf6-4399-b181-f0e358b2f60d"
      },
      "execution_count": 50,
      "outputs": [
        {
          "output_type": "stream",
          "name": "stdout",
          "text": [
            "Accuracy : 0.9352\n"
          ]
        }
      ]
    }
  ]
}